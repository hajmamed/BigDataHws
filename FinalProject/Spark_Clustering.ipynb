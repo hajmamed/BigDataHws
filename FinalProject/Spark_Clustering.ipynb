{
 "nbformat": 4,
 "nbformat_minor": 0,
 "metadata": {
  "colab": {
   "name": "Spark_Clustering.ipynb",
   "provenance": [],
   "collapsed_sections": [],
   "authorship_tag": "ABX9TyPne5zykDmNrJPl7yuxG75Q",
   "include_colab_link": true
  },
  "kernelspec": {
   "name": "python3",
   "display_name": "Python 3"
  },
  "language_info": {
   "name": "python"
  }
 },
 "cells": [
  {
   "cell_type": "markdown",
   "metadata": {
    "id": "view-in-github",
    "colab_type": "text"
   },
   "source": [
    "<a href=\"https://colab.research.google.com/github/hajmamed/BigDataHws/blob/main/Spark_Clustering.ipynb\" target=\"_parent\"><img src=\"https://colab.research.google.com/assets/colab-badge.svg\" alt=\"Open In Colab\"/></a>"
   ]
  },
  {
   "cell_type": "code",
   "execution_count": 1,
   "metadata": {
    "colab": {
     "base_uri": "https://localhost:8080/"
    },
    "id": "jIypWjnTlrGJ",
    "outputId": "ccb67d9e-36e7-484b-c305-b68497dd1d50"
   },
   "outputs": [
    {
     "output_type": "stream",
     "name": "stdout",
     "text": [
      "\u001B[K     |████████████████████████████████| 281.3 MB 45 kB/s \n",
      "\u001B[K     |████████████████████████████████| 199 kB 54.6 MB/s \n",
      "\u001B[?25h  Building wheel for pyspark (setup.py) ... \u001B[?25l\u001B[?25hdone\n"
     ]
    }
   ],
   "source": [
    "!pip install pyspark --quiet\n",
    "!pip install -U -q PyDrive --quiet \n",
    "!apt install openjdk-8-jdk-headless &> /dev/null\n",
    "\n",
    "import os\n",
    "os.environ[\"JAVA_HOME\"] = \"/usr/lib/jvm/java-8-openjdk-amd64\""
   ]
  },
  {
   "cell_type": "code",
   "source": [
    "from google.colab import drive\n",
    "drive.mount('/content/drive')"
   ],
   "metadata": {
    "colab": {
     "base_uri": "https://localhost:8080/"
    },
    "id": "h2oPVGuhnS4L",
    "outputId": "14c370bb-d4f3-4dde-d856-93c873533681"
   },
   "execution_count": 2,
   "outputs": [
    {
     "output_type": "stream",
     "name": "stdout",
     "text": [
      "Mounted at /content/drive\n"
     ]
    }
   ]
  },
  {
   "cell_type": "markdown",
   "source": [
    "# Read Data"
   ],
   "metadata": {
    "id": "sR-kUmjrqlV9"
   }
  },
  {
   "cell_type": "code",
   "source": [
    "import pyspark\n",
    "from pyspark.sql import SparkSession\n",
    "filePath = '/content/drive/MyDrive/BigData/data.csv'\n",
    "\n",
    "spark = SparkSession.builder.appName('BigDataFinal').getOrCreate()\n",
    "sc=spark.sparkContext\n",
    "df=spark.read.format(\"csv\").option(\"header\",\"true\").load(filePath)\n",
    "df.printSchema()\n",
    "df.select(\"*\").show(5)"
   ],
   "metadata": {
    "colab": {
     "base_uri": "https://localhost:8080/"
    },
    "id": "50b6hcI9nTyL",
    "outputId": "63291e9f-3644-4c20-e8d9-435e06e9cc2b"
   },
   "execution_count": 3,
   "outputs": [
    {
     "output_type": "stream",
     "name": "stdout",
     "text": [
      "root\n",
      " |-- Date/Time: string (nullable = true)\n",
      " |-- Lat: string (nullable = true)\n",
      " |-- Lon: string (nullable = true)\n",
      " |-- Base: string (nullable = true)\n",
      "\n",
      "+----------------+-------+--------+------+\n",
      "|       Date/Time|    Lat|     Lon|  Base|\n",
      "+----------------+-------+--------+------+\n",
      "|9/1/2014 0:01:00|40.2201|-74.0021|B02512|\n",
      "|9/1/2014 0:01:00|  40.75|-74.0027|B02512|\n",
      "|9/1/2014 0:03:00|40.7559|-73.9864|B02512|\n",
      "|9/1/2014 0:06:00| 40.745|-73.9889|B02512|\n",
      "|9/1/2014 0:11:00|40.8145|-73.9444|B02512|\n",
      "+----------------+-------+--------+------+\n",
      "only showing top 5 rows\n",
      "\n"
     ]
    }
   ]
  },
  {
   "cell_type": "code",
   "source": [
    "df = df.withColumn(\"Lat\",df.Lat.cast('double'))\\\n",
    "        .withColumn(\"Lon\",df.Lon.cast('double'))\n",
    "df.printSchema()"
   ],
   "metadata": {
    "colab": {
     "base_uri": "https://localhost:8080/"
    },
    "id": "rxxqIvZQ2-Kh",
    "outputId": "43176528-cd00-41b3-a1d7-12a0b71502a5"
   },
   "execution_count": 15,
   "outputs": [
    {
     "output_type": "stream",
     "name": "stdout",
     "text": [
      "root\n",
      " |-- Date/Time: string (nullable = true)\n",
      " |-- Lat: double (nullable = true)\n",
      " |-- Lon: double (nullable = true)\n",
      " |-- Base: string (nullable = true)\n",
      "\n"
     ]
    }
   ]
  },
  {
   "cell_type": "markdown",
   "source": [
    "# Data Shuffling"
   ],
   "metadata": {
    "id": "DGSj5F5pqpCI"
   }
  },
  {
   "cell_type": "code",
   "source": [
    "from pyspark.sql.functions import rand\n",
    "\n",
    "df = df.orderBy(rand())\n",
    "df.show(5)"
   ],
   "metadata": {
    "colab": {
     "base_uri": "https://localhost:8080/"
    },
    "id": "1NbMrBden_oX",
    "outputId": "45d727a5-f1af-4210-c750-5a3a4b3d685b"
   },
   "execution_count": 17,
   "outputs": [
    {
     "output_type": "stream",
     "name": "stdout",
     "text": [
      "+------------------+-------+--------+------+\n",
      "|         Date/Time|    Lat|     Lon|  Base|\n",
      "+------------------+-------+--------+------+\n",
      "|6/18/2014 19:03:00| 40.752|-73.9733|B02682|\n",
      "| 4/19/2014 5:15:00|40.6971|-73.9883|B02617|\n",
      "| 5/15/2014 6:22:00| 40.736|-73.9978|B02598|\n",
      "|9/30/2014 20:31:00|40.7815|-73.9758|B02764|\n",
      "|4/26/2014 15:51:00|  40.72|-74.0051|B02598|\n",
      "+------------------+-------+--------+------+\n",
      "only showing top 5 rows\n",
      "\n"
     ]
    }
   ]
  },
  {
   "cell_type": "markdown",
   "source": [
    "# Select 20% data to train"
   ],
   "metadata": {
    "id": "K51nSewxq2y4"
   }
  },
  {
   "cell_type": "code",
   "source": [
    "train_data = df.sample(0.2)\n",
    "train_data.show(5)"
   ],
   "metadata": {
    "colab": {
     "base_uri": "https://localhost:8080/"
    },
    "id": "y-mwzjzaoa4-",
    "outputId": "9bdda5ab-3e30-43dd-96d3-d912d43594cf"
   },
   "execution_count": 18,
   "outputs": [
    {
     "output_type": "stream",
     "name": "stdout",
     "text": [
      "+------------------+-------+--------+------+\n",
      "|         Date/Time|    Lat|     Lon|  Base|\n",
      "+------------------+-------+--------+------+\n",
      "|9/19/2014 23:31:00|40.6344|-73.9651|B02617|\n",
      "| 5/1/2014 19:30:00|40.6449|-73.7822|B02682|\n",
      "| 8/7/2014 23:02:00|40.6869|-73.9769|B02598|\n",
      "|5/30/2014 19:24:00|40.7461| -73.977|B02598|\n",
      "|4/11/2014 18:24:00|40.7471|-74.0014|B02598|\n",
      "+------------------+-------+--------+------+\n",
      "only showing top 5 rows\n",
      "\n"
     ]
    }
   ]
  },
  {
   "cell_type": "code",
   "source": [
    "train_data.count()"
   ],
   "metadata": {
    "colab": {
     "base_uri": "https://localhost:8080/"
    },
    "id": "AWipIdHcuJu3",
    "outputId": "7e501641-d434-4e12-fb82-bf4e969c3219"
   },
   "execution_count": 11,
   "outputs": [
    {
     "output_type": "execute_result",
     "data": {
      "text/plain": [
       "907338"
      ]
     },
     "metadata": {},
     "execution_count": 11
    }
   ]
  },
  {
   "cell_type": "markdown",
   "source": [
    "# Create feature vector from data to train"
   ],
   "metadata": {
    "id": "vdxQJDcRq96E"
   }
  },
  {
   "cell_type": "code",
   "source": [
    "from pyspark.ml.clustering import KMeans\n",
    "from pyspark.ml.evaluation import ClusteringEvaluator\n",
    "from pyspark.ml.feature import *\n",
    "from pyspark.ml.feature import VectorAssembler\n",
    "\n",
    "\n",
    "vecAssembler = VectorAssembler(outputCol=\"features\")\n",
    "vecAssembler.setInputCols([\"Lat\",\"Lon\"])\n",
    "transformed = vecAssembler.transform(train_data)\n",
    "transformed.show(5)"
   ],
   "metadata": {
    "colab": {
     "base_uri": "https://localhost:8080/"
    },
    "id": "d-a7LXp0obl_",
    "outputId": "b1f70998-14e0-4953-fcc4-057094d33289"
   },
   "execution_count": 32,
   "outputs": [
    {
     "output_type": "stream",
     "name": "stdout",
     "text": [
      "+------------------+-------+--------+------+------------------+\n",
      "|         Date/Time|    Lat|     Lon|  Base|          features|\n",
      "+------------------+-------+--------+------+------------------+\n",
      "| 7/12/2014 8:56:00|40.7254|-73.9939|B02598|[40.7254,-73.9939]|\n",
      "|5/27/2014 21:17:00|40.7566|-73.9754|B02617|[40.7566,-73.9754]|\n",
      "|7/20/2014 12:55:00|40.7224|-73.9594|B02682|[40.7224,-73.9594]|\n",
      "| 7/10/2014 6:33:00|40.7804| -73.976|B02598| [40.7804,-73.976]|\n",
      "|7/23/2014 11:57:00|40.6447|-73.7823|B02598|[40.6447,-73.7823]|\n",
      "+------------------+-------+--------+------+------------------+\n",
      "only showing top 5 rows\n",
      "\n"
     ]
    }
   ]
  },
  {
   "cell_type": "markdown",
   "source": [
    "# Start Clustering with Kmeans for k=2 to 10\n",
    "\n",
    "We know something about this data and guess the best number of clusters should be 2-10 So we test all these Ks and compare their results with silhoutte factor and test costs factor"
   ],
   "metadata": {
    "id": "erI8vd7_rGZP"
   }
  },
  {
   "cell_type": "code",
   "source": [
    "import numpy as np\n",
    "from pyspark.ml.clustering import KMeans\n",
    "from pyspark.ml.evaluation import ClusteringEvaluator\n",
    "from pyspark.ml.feature import *\n",
    "\n",
    "\n",
    "costs = []\n",
    "silhouette = []\n",
    "evaluator = ClusteringEvaluator()\n",
    "for k in range(2, 10):\n",
    "    print(\"Process k=\" + str(k) + \" clustering\")\n",
    "    kmeans = KMeans().setK(k).setSeed(1).setFeaturesCol(\"features\")\n",
    "    model = kmeans.fit(transformed)\n",
    "    predictions = model.transform(transformed)\n",
    "    sil_factor = evaluator.evaluate(predictions)\n",
    "    silhouette.append(sil_factor)\n",
    "    k_cost = model.summary.trainingCost\n",
    "    costs.append(k_cost)\n",
    "    print(\"Clustering by k=\" + str(k) + \" with silhouette factor=\" + str(sil_factor) + \" and cost=\" + str(k_cost))\n"
   ],
   "metadata": {
    "colab": {
     "base_uri": "https://localhost:8080/"
    },
    "id": "g8AuLg_Oo0Qa",
    "outputId": "2e001efe-641e-474e-ef5f-cc47ef161f4d"
   },
   "execution_count": 35,
   "outputs": [
    {
     "output_type": "stream",
     "name": "stdout",
     "text": [
      "Process k=2 clustering\n",
      "Clustering by k=2 with silhouette factor=0.8616307217384176 and cost=2731.6396847668775\n",
      "Process k=3 clustering\n",
      "Clustering by k=3 with silhouette factor=0.8413696019318339 and cost=2469.38958064692\n",
      "Process k=4 clustering\n",
      "Clustering by k=4 with silhouette factor=0.6013035204318685 and cost=1750.1350190376968\n",
      "Process k=5 clustering\n",
      "Clustering by k=5 with silhouette factor=0.4499846270924566 and cost=1487.8867326798756\n",
      "Process k=6 clustering\n",
      "Clustering by k=6 with silhouette factor=0.5671112977313193 and cost=1089.760016910044\n",
      "Process k=7 clustering\n",
      "Clustering by k=7 with silhouette factor=0.3474600675989086 and cost=1192.1646550539253\n",
      "Process k=8 clustering\n",
      "Clustering by k=8 with silhouette factor=0.41686124221756865 and cost=1297.4294939730048\n",
      "Process k=9 clustering\n",
      "Clustering by k=9 with silhouette factor=0.5328384603011753 and cost=844.8395120748996\n"
     ]
    }
   ]
  },
  {
   "cell_type": "markdown",
   "source": [
    "# Plot Elbow\n",
    "\n",
    "to fugire our best number of clusters we plot and visualize them and find the elbow point"
   ],
   "metadata": {
    "id": "FawhIEJZrg6j"
   }
  },
  {
   "cell_type": "code",
   "source": [
    "import matplotlib.mlab as mlab\n",
    "import matplotlib.pyplot as plt\n",
    "import seaborn as sbs\n",
    "from matplotlib.ticker import MaxNLocator\n",
    "\n",
    "fig, ax = plt.subplots(1, 1, figsize=(8, 6))\n",
    "ax.plot([2, 3, 4, 5, 6, 7, 8, 9], silhouette)\n",
    "ax.set_xlabel('number of clusters (K)')\n",
    "ax.set_ylabel('Silhouette with squared euclidean distance')\n",
    "ax.xaxis.set_major_locator(MaxNLocator(integer=True))\n",
    "ax.grid()\n",
    "plt.show()\n",
    "\n",
    "\n",
    "\n",
    "fig, ax = plt.subplots(1, 1, figsize=(8, 6))\n",
    "ax.plot([2, 3, 4, 5, 6, 7, 8, 9], costs)\n",
    "ax.set_xlabel('number of clusters (K)')\n",
    "ax.set_ylabel('Costs with squared euclidean distance')\n",
    "ax.xaxis.set_major_locator(MaxNLocator(integer=True))\n",
    "ax.grid()\n",
    "plt.show()"
   ],
   "metadata": {
    "colab": {
     "base_uri": "https://localhost:8080/",
     "height": 759
    },
    "id": "Nja9BS8lpz-6",
    "outputId": "68f2a440-333d-4cb1-bd7d-685511aa6e1d"
   },
   "execution_count": 36,
   "outputs": [
    {
     "output_type": "display_data",
     "data": {
      "text/plain": [
       "<Figure size 576x432 with 1 Axes>"
      ],
      "image/png": "[encoded data removed]"
     },
     "metadata": {
      "needs_background": "light"
     }
    },
    {
     "output_type": "display_data",
     "data": {
      "text/plain": [
       "<Figure size 576x432 with 1 Axes>"
      ],
      "image/png": "[encoded data removed]"
     },
     "metadata": {
      "needs_background": "light"
     }
    }
   ]
  },
  {
   "cell_type": "markdown",
   "source": [
    "# K=3 is the best\n",
    "\n",
    "we find k=3 best cluster numbers so we create our model base on k=3"
   ],
   "metadata": {
    "id": "JNbfIvtKruo-"
   }
  },
  {
   "cell_type": "code",
   "source": [
    "k = 3\n",
    "kmeans = KMeans().setK(k).setSeed(1).setFeaturesCol(\"features\")\n",
    "model = kmeans.fit(transformed)\n",
    "predictions = model.transform(transformed)\n",
    "centroids_k = model.clusterCenters()\n",
    "print(centroids_k)"
   ],
   "metadata": {
    "colab": {
     "base_uri": "https://localhost:8080/"
    },
    "id": "ZzZy9Ohnr3oO",
    "outputId": "f8096916-aedc-42a1-9f75-d63f57fb19ba"
   },
   "execution_count": 37,
   "outputs": [
    {
     "output_type": "stream",
     "name": "stdout",
     "text": [
      "[array([ 40.74039495, -73.98481099]), array([ 40.8739326 , -73.63632237]), array([ 40.71393048, -73.83196384])]\n"
     ]
    }
   ]
  },
  {
   "cell_type": "code",
   "source": [
    "import pandas as pd\n",
    "clocation_k = pd.DataFrame(centroids_k, columns=['Latitude', 'Longitude'])\n",
    "plt.scatter(clocation_k['Latitude'], clocation_k['Longitude'], marker=\"x\", s=200)\n",
    "plt.show()"
   ],
   "metadata": {
    "colab": {
     "base_uri": "https://localhost:8080/",
     "height": 265
    },
    "id": "W1p-p4d2_83i",
    "outputId": "40aec82b-5027-4f57-d8d5-a6dd3fced8a9"
   },
   "execution_count": 41,
   "outputs": [
    {
     "output_type": "display_data",
     "data": {
      "text/plain": [
       "<Figure size 432x288 with 1 Axes>"
      ],
      "image/png": "[encoded data removed]"
     },
     "metadata": {
      "needs_background": "light"
     }
    }
   ]
  },
  {
   "cell_type": "code",
   "source": [
    "cnt_df = predictions.groupBy(\"prediction\").count()\n",
    "cnt_df.show()\n"
   ],
   "metadata": {
    "colab": {
     "base_uri": "https://localhost:8080/"
    },
    "id": "r4WTDoZbtARR",
    "outputId": "830864b5-86cf-446f-fd5b-e651741442b8"
   },
   "execution_count": 48,
   "outputs": [
    {
     "output_type": "stream",
     "name": "stdout",
     "text": [
      "+----------+------+\n",
      "|prediction| count|\n",
      "+----------+------+\n",
      "|         1|  4442|\n",
      "|         2| 59593|\n",
      "|         0|841273|\n",
      "+----------+------+\n",
      "\n"
     ]
    }
   ]
  },
  {
   "cell_type": "code",
   "source": [
    "import seaborn as sb\n",
    "\n",
    "clusters =predictions.toPandas()\n",
    "sb.catplot(data=clusters, x=\"prediction\", kind=\"count\", height=7, aspect=2)\n",
    "plt.show()\n"
   ],
   "metadata": {
    "colab": {
     "base_uri": "https://localhost:8080/",
     "height": 513
    },
    "id": "SDgUXa47P5Rp",
    "outputId": "f8e08033-4737-4848-af9b-78212c75d5ea"
   },
   "execution_count": 60,
   "outputs": [
    {
     "output_type": "display_data",
     "data": {
      "text/plain": [
       "<Figure size 1008x504 with 1 Axes>"
      ],
      "image/png": "[encoded data removed]"
     },
     "metadata": {
      "needs_background": "light"
     }
    }
   ]
  },
  {
   "cell_type": "code",
   "source": [
    "plt.scatter(clusters['Lat'], clusters['Lon'], c=clusters['prediction'], cmap='viridis')\n",
    "plt.show()"
   ],
   "metadata": {
    "colab": {
     "base_uri": "https://localhost:8080/",
     "height": 265
    },
    "id": "bRIZTT9NTVq3",
    "outputId": "e6054193-edf6-4e91-e4b8-1363f0a6581c"
   },
   "execution_count": 61,
   "outputs": [
    {
     "output_type": "display_data",
     "data": {
      "text/plain": [
       "<Figure size 432x288 with 1 Axes>"
      ],
      "image/png": "[encoded data removed]"
     },
     "metadata": {
      "needs_background": "light"
     }
    }
   ]
  },
  {
   "cell_type": "markdown",
   "source": [
    "# Save the model"
   ],
   "metadata": {
    "id": "9JhZDzAjr44L"
   }
  },
  {
   "cell_type": "code",
   "source": [
    "import os, tempfile\n",
    "\n",
    "model_path = \"/content/drive/MyDrive/BigData/finalized_model\"\n",
    "model.save(model_path)"
   ],
   "metadata": {
    "id": "aGMr8IkhqEkP"
   },
   "execution_count": 62,
   "outputs": []
  }
 ]
}